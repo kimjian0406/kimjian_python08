{
  "nbformat": 4,
  "nbformat_minor": 0,
  "metadata": {
    "colab": {
      "provenance": [],
      "authorship_tag": "ABX9TyMQ7r7Vbb5JxlOGZUokjs/n"
    },
    "kernelspec": {
      "name": "python3",
      "display_name": "Python 3"
    },
    "language_info": {
      "name": "python"
    }
  },
  "cells": [
    {
      "cell_type": "markdown",
      "source": [
        "사용자의 이름, 나이, 성별을 출력하는 함수 print_info를 작성하세요. 이 때, 모든 매개변수는 키워드 매개변수로만 받도록 하세요."
      ],
      "metadata": {
        "id": "zfQ8DGC7uKcy"
      }
    },
    {
      "cell_type": "code",
      "source": [
        "def print_info(**kwargs):\n",
        "    for key, value in kwargs.items():\n",
        "        print(f\"{key}: {value}\")\n",
        "\n",
        "print_info(name=\"다니엘\", age=17, gender=\"여성\")"
      ],
      "metadata": {
        "colab": {
          "base_uri": "https://localhost:8080/"
        },
        "id": "3I24tG3EuNpe",
        "outputId": "af8d6134-1111-4825-d7e2-d09e899b9b1f"
      },
      "execution_count": 1,
      "outputs": [
        {
          "output_type": "stream",
          "name": "stdout",
          "text": [
            "name: 다니엘\n",
            "age: 17\n",
            "gender: 여성\n"
          ]
        }
      ]
    }
  ]
}