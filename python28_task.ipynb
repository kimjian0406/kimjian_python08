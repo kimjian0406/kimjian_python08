{
  "nbformat": 4,
  "nbformat_minor": 0,
  "metadata": {
    "colab": {
      "provenance": [],
      "authorship_tag": "ABX9TyPH6KtkyDMRnIMS8nyN7d2M"
    },
    "kernelspec": {
      "name": "python3",
      "display_name": "Python 3"
    },
    "language_info": {
      "name": "python"
    }
  },
  "cells": [
    {
      "cell_type": "markdown",
      "source": [
        "사용자로부터 3개의 숫자를 입력받아, 이를 튜플로 만든 후 최소값과 최대값을 출력하는 함수 min_max를 작성하세요."
      ],
      "metadata": {
        "id": "A9EyMPha3oDI"
      }
    },
    {
      "cell_type": "code",
      "source": [
        "def min_max(*numbers):\n",
        "    numbers_tuple = tuple(numbers)\n",
        "    print(\"최소값:\", min(numbers_tuple), \"최대값:\", max(numbers_tuple))\n",
        "\n",
        "min_max(15, 7, 5)"
      ],
      "metadata": {
        "colab": {
          "base_uri": "https://localhost:8080/"
        },
        "id": "H1tJLDG23uBw",
        "outputId": "3bcb44e3-3468-41d8-8610-72d76f302f54"
      },
      "execution_count": 1,
      "outputs": [
        {
          "output_type": "stream",
          "name": "stdout",
          "text": [
            "최소값: 5 최대값: 15\n"
          ]
        }
      ]
    }
  ]
}