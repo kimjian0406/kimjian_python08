{
  "nbformat": 4,
  "nbformat_minor": 0,
  "metadata": {
    "colab": {
      "provenance": [],
      "authorship_tag": "ABX9TyOSeKP+18Tcx5kKIUWLqWbk"
    },
    "kernelspec": {
      "name": "python3",
      "display_name": "Python 3"
    },
    "language_info": {
      "name": "python"
    }
  },
  "cells": [
    {
      "cell_type": "markdown",
      "source": [
        "문자열 리스트를 받아, 각 문자열의 길이를 출력하는 함수 print_lengths를 작성하세요."
      ],
      "metadata": {
        "id": "OmiJRb8s7zYi"
      }
    },
    {
      "cell_type": "code",
      "source": [
        "def print_lengths(strings):\n",
        "    for string in strings:\n",
        "        print(len(string))\n",
        "\n",
        "print_lengths([\"hello\", \"world\", \"python\"])"
      ],
      "metadata": {
        "colab": {
          "base_uri": "https://localhost:8080/"
        },
        "id": "0tXvlMb073LI",
        "outputId": "e10cdbe0-106e-4411-f45f-864f5d6379be"
      },
      "execution_count": 1,
      "outputs": [
        {
          "output_type": "stream",
          "name": "stdout",
          "text": [
            "5\n",
            "5\n",
            "6\n"
          ]
        }
      ]
    }
  ]
}