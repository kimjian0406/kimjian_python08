{
  "nbformat": 4,
  "nbformat_minor": 0,
  "metadata": {
    "colab": {
      "provenance": [],
      "authorship_tag": "ABX9TyOS7pJAK0BKkHL/ysIl5hvc"
    },
    "kernelspec": {
      "name": "python3",
      "display_name": "Python 3"
    },
    "language_info": {
      "name": "python"
    }
  },
  "cells": [
    {
      "cell_type": "markdown",
      "source": [
        "두 문자열을 받아서 긴 문자열을 반환하는 함수 longer_string을 작성하세요. 만약 두 문자열의 길이가 같다면, 첫 번째 문자열을 반환하세요."
      ],
      "metadata": {
        "id": "uNfkL5qJ9STp"
      }
    },
    {
      "cell_type": "code",
      "source": [
        "def longer_string(str1, str2):\n",
        "    if len(str1) >= len(str2):\n",
        "        return str1\n",
        "    else:\n",
        "        return str2\n",
        "\n",
        "print(longer_string(\"apple\", \"pineapple\"))"
      ],
      "metadata": {
        "colab": {
          "base_uri": "https://localhost:8080/"
        },
        "id": "q2tokswV9WhQ",
        "outputId": "0fe6c069-07ff-432e-ae78-fbb80b45fa78"
      },
      "execution_count": 1,
      "outputs": [
        {
          "output_type": "stream",
          "name": "stdout",
          "text": [
            "pineapple\n"
          ]
        }
      ]
    }
  ]
}