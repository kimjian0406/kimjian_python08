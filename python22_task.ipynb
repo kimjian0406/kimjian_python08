{
  "nbformat": 4,
  "nbformat_minor": 0,
  "metadata": {
    "colab": {
      "provenance": [],
      "authorship_tag": "ABX9TyNbPzC0bReSA6pdqvkDIO9f"
    },
    "kernelspec": {
      "name": "python3",
      "display_name": "Python 3"
    },
    "language_info": {
      "name": "python"
    }
  },
  "cells": [
    {
      "cell_type": "markdown",
      "source": [
        "여러 숫자를 입력받아 그 합계를 반환하는 함수 sum_numbers를 작성하세요. 이 때, 가변 매개변수를 사용하세요."
      ],
      "metadata": {
        "id": "d-d63cp_niap"
      }
    },
    {
      "cell_type": "code",
      "source": [
        "def sum_numbers(*args):\n",
        "    \"\"\"\n",
        "    여러 숫자를 입력받아 합계를 반환하는 함수.\n",
        "    :param args: 합산할 숫자들 (가변 매개변수)\n",
        "    :return: 숫자들의 합계\n",
        "    \"\"\"\n",
        "    return sum(args)\n",
        "\n",
        "# 예제 사용\n",
        "print(sum_numbers(1, 2, 3, 4, 5))  # 출력: 15\n",
        "print(sum_numbers(10, 20))         # 출력: 30\n"
      ],
      "metadata": {
        "colab": {
          "base_uri": "https://localhost:8080/"
        },
        "id": "upBWFFWBnkcS",
        "outputId": "42adf96f-2b79-4fb6-b384-7743b676e9ff"
      },
      "execution_count": 1,
      "outputs": [
        {
          "output_type": "stream",
          "name": "stdout",
          "text": [
            "15\n",
            "30\n"
          ]
        }
      ]
    }
  ]
}