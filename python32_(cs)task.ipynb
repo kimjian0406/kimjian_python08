{
  "nbformat": 4,
  "nbformat_minor": 0,
  "metadata": {
    "colab": {
      "provenance": [],
      "authorship_tag": "ABX9TyNpTA/1u0zT3zHbgAhXuS/0"
    },
    "kernelspec": {
      "name": "python3",
      "display_name": "Python 3"
    },
    "language_info": {
      "name": "python"
    }
  },
  "cells": [
    {
      "cell_type": "markdown",
      "source": [
        "### 도전 과제입니다!!!\n",
        "\n",
        "난이도가 다소 높은 문제이기 때문에 도전하지 않으셔도 됩니다.\n",
        "\n",
        "실력을 높이시고 싶은 수강생 여러분은 __무조건 도전__ 해 주세요!!\n",
        "\n"
      ],
      "metadata": {
        "id": "mKtWta2gZmFW"
      }
    },
    {
      "cell_type": "markdown",
      "source": [
        "#### 프로젝트: 간단한 주소록 관리 시스템\n",
        "\n",
        "[목표]\n",
        "사용자로부터 연락처 정보를 입력받아 관리하고, 원하는 조건에 따라 연락처를 검색할 수 있는 간단한 주소록 관리 시스템을 만듭니다.\n",
        "\n",
        "[기능]\n",
        "- 연락처 추가: 사용자의 이름, 전화번호, 이메일 주소를 입력받아 주소록에 추가합니다.\n",
        "- 연락처 목록 보기: 저장된 모든 연락처의 정보를 화면에 출력합니다.\n",
        "- 연락처 검색: 사용자로부터 검색 키워드를 입력받아, 해당 키워드가 이름에 포함된 연락처 정보를 화면에 출력합니다.\n",
        "- 연락처 삭제: 사용자로부터 이름을 입력받아, 해당하는 연락처 정보를 주소록에서 삭제합니다.\n",
        "- 연락처 정렬: 연락처 목록을 이름 순서로 정렬하여 출력합니다.\n",
        "- 제너레이터를 이용한 연락처 순회: 주소록에 저장된 연락처를 순회하는 제너레이터 함수를 구현합니다.\n",
        "\n",
        "[구현 상세]\n",
        "- 주소록 데이터는 리스트 내에 딕셔너리 형태로 저장됩니다.\n",
        "- 각 기능은 별도의 함수로 구현합니다.\n",
        "- 함수의 기본 활용, 기본 매개변수, 람다, 제너레이터 등을 적절히 활용해야 합니다."
      ],
      "metadata": {
        "id": "0pUdVBLBZp8q"
      }
    },
    {
      "cell_type": "code",
      "source": [
        "# 주소록 관리 시스템\n",
        "def main():\n",
        "    address_book = []  # 주소록 데이터 저장\n",
        "\n",
        "    def add_contact():\n",
        "        \"\"\"연락처 추가\"\"\"\n",
        "        name = input(\"이름을 입력하세요: \")\n",
        "        phone = input(\"전화번호를 입력하세요: \")\n",
        "        email = input(\"이메일 주소를 입력하세요: \")\n",
        "        address_book.append({\"name\": name, \"phone\": phone, \"email\": email})\n",
        "        print(f\"{name}의 연락처가 추가되었습니다.\")\n",
        "\n",
        "    def view_contacts():\n",
        "        \"\"\"연락처 목록 보기\"\"\"\n",
        "        if not address_book:\n",
        "            print(\"주소록이 비어 있습니다.\")\n",
        "            return\n",
        "        print(\"\\n저장된 연락처 목록:\")\n",
        "        for i, contact in enumerate(address_book, start=1):\n",
        "            print(f\"{i}. 이름: {contact['name']}, 전화번호: {contact['phone']}, 이메일: {contact['email']}\")\n",
        "\n",
        "    def search_contact():\n",
        "        \"\"\"연락처 검색\"\"\"\n",
        "        keyword = input(\"검색할 이름을 입력하세요: \")\n",
        "        results = [c for c in address_book if keyword.lower() in c[\"name\"].lower()]\n",
        "        if results:\n",
        "            print(\"\\n검색 결과:\")\n",
        "            for contact in results:\n",
        "                print(f\"이름: {contact['name']}, 전화번호: {contact['phone']}, 이메일: {contact['email']}\")\n",
        "        else:\n",
        "            print(\"검색 결과가 없습니다.\")\n",
        "\n",
        "    def delete_contact():\n",
        "        \"\"\"연락처 삭제\"\"\"\n",
        "        name = input(\"삭제할 연락처의 이름을 입력하세요: \")\n",
        "        for contact in address_book:\n",
        "            if contact[\"name\"].lower() == name.lower():\n",
        "                address_book.remove(contact)\n",
        "                print(f\"{name}의 연락처가 삭제되었습니다.\")\n",
        "                return\n",
        "        print(f\"{name}의 연락처를 찾을 수 없습니다.\")\n",
        "\n",
        "    def sort_contacts():\n",
        "        \"\"\"연락처 정렬\"\"\"\n",
        "        if not address_book:\n",
        "            print(\"주소록이 비어 있습니다.\")\n",
        "            return\n",
        "        address_book.sort(key=lambda x: x[\"name\"].lower())\n",
        "        print(\"연락처가 이름 순서로 정렬되었습니다.\")\n",
        "        view_contacts()\n",
        "\n",
        "    def contact_generator():\n",
        "        \"\"\"제너레이터를 이용한 연락처 순회\"\"\"\n",
        "        for contact in address_book:\n",
        "            yield contact\n",
        "\n",
        "    while True:\n",
        "        print(\"\\n[주소록 관리 시스템]\")\n",
        "        print(\"1. 연락처 추가\")\n",
        "        print(\"2. 연락처 목록 보기\")\n",
        "        print(\"3. 연락처 검색\")\n",
        "        print(\"4. 연락처 삭제\")\n",
        "        print(\"5. 연락처 정렬\")\n",
        "        print(\"6. 연락처 순회 (제너레이터)\")\n",
        "        print(\"7. 종료\")\n",
        "        choice = input(\"원하는 작업의 번호를 입력하세요: \")\n",
        "\n",
        "        if choice == \"1\":\n",
        "            add_contact()\n",
        "        elif choice == \"2\":\n",
        "            view_contacts()\n",
        "        elif choice == \"3\":\n",
        "            search_contact()\n",
        "        elif choice == \"4\":\n",
        "            delete_contact()\n",
        "        elif choice == \"5\":\n",
        "            sort_contacts()\n",
        "        elif choice == \"6\":\n",
        "            gen = contact_generator()\n",
        "            print(\"\\n연락처 순회:\")\n",
        "            for contact in gen:\n",
        "                print(f\"이름: {contact['name']}, 전화번호: {contact['phone']}, 이메일: {contact['email']}\")\n",
        "        elif choice == \"7\":\n",
        "            print(\"주소록 관리 시스템을 종료합니다.\")\n",
        "            break\n",
        "        else:\n",
        "            print(\"잘못된 입력입니다. 다시 시도하세요.\")\n",
        "\n",
        "# 프로그램 실행\n",
        "main()\n"
      ],
      "metadata": {
        "colab": {
          "base_uri": "https://localhost:8080/"
        },
        "id": "0Tg1EHfuZ8FL",
        "outputId": "e02bfa2c-4c3f-472f-c07a-51e13bb2f143"
      },
      "execution_count": 1,
      "outputs": [
        {
          "output_type": "stream",
          "name": "stdout",
          "text": [
            "\n",
            "[주소록 관리 시스템]\n",
            "1. 연락처 추가\n",
            "2. 연락처 목록 보기\n",
            "3. 연락처 검색\n",
            "4. 연락처 삭제\n",
            "5. 연락처 정렬\n",
            "6. 연락처 순회 (제너레이터)\n",
            "7. 종료\n",
            "원하는 작업의 번호를 입력하세요: 1\n",
            "이름을 입력하세요: 김제니\n",
            "전화번호를 입력하세요: 010-1234-5678\n",
            "이메일 주소를 입력하세요: oheunsuhhy3@naver.com\n",
            "김제니의 연락처가 추가되었습니다.\n",
            "\n",
            "[주소록 관리 시스템]\n",
            "1. 연락처 추가\n",
            "2. 연락처 목록 보기\n",
            "3. 연락처 검색\n",
            "4. 연락처 삭제\n",
            "5. 연락처 정렬\n",
            "6. 연락처 순회 (제너레이터)\n",
            "7. 종료\n",
            "원하는 작업의 번호를 입력하세요: 7\n",
            "주소록 관리 시스템을 종료합니다.\n"
          ]
        }
      ]
    }
  ]
}