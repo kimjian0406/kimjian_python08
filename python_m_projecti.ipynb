{
  "nbformat": 4,
  "nbformat_minor": 0,
  "metadata": {
    "colab": {
      "provenance": [],
      "authorship_tag": "ABX9TyPMbX0vyBK/nrqZ5Kzr4y9V"
    },
    "kernelspec": {
      "name": "python3",
      "display_name": "Python 3"
    },
    "language_info": {
      "name": "python"
    }
  },
  "cells": [
    {
      "cell_type": "code",
      "execution_count": 3,
      "metadata": {
        "colab": {
          "base_uri": "https://localhost:8080/"
        },
        "id": "P9lbCgax_yo6",
        "outputId": "4f853f16-b47e-45d9-fb1f-42852e5f572d"
      },
      "outputs": [
        {
          "output_type": "stream",
          "name": "stdout",
          "text": [
            "행맨 게임을 시작합니다!\n",
            "단어의 길이는 다음과 같습니다:\n",
            "_ _ _ _ _\n",
            "\n",
            "알파벳 한 글자를 입력하세요: a\n",
            "단어를 맞추셨군요. 더 힘내봐요!\n",
            "현재 단어 상태: _ _ a _ _\n",
            "\n",
            "알파벳 한 글자를 입력하세요: p\n",
            "단어를 맞추셨군요. 더 힘내봐요!\n",
            "현재 단어 상태: _ _ a p _\n",
            "\n",
            "알파벳 한 글자를 입력하세요: e\n",
            "단어를 맞추셨군요. 더 힘내봐요!\n",
            "현재 단어 상태: _ _ a p e\n",
            "\n",
            "알파벳 한 글자를 입력하세요: p\n",
            "이미 입력한 글자입니다. 다른 글자를 입력해주세요.\n",
            "\n",
            "알파벳 한 글자를 입력하세요: a\n",
            "이미 입력한 글자입니다. 다른 글자를 입력해주세요.\n",
            "\n",
            "알파벳 한 글자를 입력하세요: r\n",
            "단어를 맞추셨군요. 더 힘내봐요!\n",
            "현재 단어 상태: _ r a p e\n",
            "\n",
            "알파벳 한 글자를 입력하세요: g\n",
            "단어를 맞추셨군요. 더 힘내봐요!\n",
            "현재 단어 상태: g r a p e\n",
            "\n",
            "축하합니다! 단어를 맞추셨습니다: grape\n",
            "남은 시도 횟수: 6\n"
          ]
        }
      ],
      "source": [
        "import random\n",
        "\n",
        "def hangman():\n",
        "    # 사용할 단어 리스트\n",
        "    words = [\"apple\", \"banana\", \"orange\", \"grape\", \"lemon\"]\n",
        "    # 랜덤으로 단어 선택\n",
        "    word = random.choice(words)\n",
        "    word_length = len(word)\n",
        "    attempts = 6  # 최대 시도 횟수\n",
        "    guessed_word = [\"_\"] * word_length  # 단어의 상태를 밑줄로 초기화\n",
        "    guessed_letters = set()  # 이미 추측한 글자를 저장\n",
        "\n",
        "    print(\"행맨 게임을 시작합니다!\")\n",
        "    print(\"단어의 길이는 다음과 같습니다:\")\n",
        "    print(\" \".join(guessed_word))\n",
        "\n",
        "    while attempts > 0:\n",
        "        guess = input(\"\\n알파벳 한 글자를 입력하세요: \").lower()\n",
        "\n",
        "        # 잘못된 입력 처리\n",
        "        if len(guess) != 1 or not guess.isalpha():\n",
        "            print(\"한 글자 알파벳만 입력해주세요.\")\n",
        "            continue\n",
        "        if guess in guessed_letters:\n",
        "            print(\"이미 입력한 글자입니다. 다른 글자를 입력해주세요.\")\n",
        "            continue\n",
        "\n",
        "        guessed_letters.add(guess)\n",
        "\n",
        "        # 입력값이 단어에 포함된 경우\n",
        "        if guess in word:\n",
        "            print(\"단어를 맞추셨군요. 더 힘내봐요!\")\n",
        "            for i in range(word_length):\n",
        "                if word[i] == guess:\n",
        "                    guessed_word[i] = guess\n",
        "        else:\n",
        "            # 틀린 경우 시도 횟수 감소\n",
        "            attempts -= 1\n",
        "            print(f\"틀렸습니다. 남은 시도 횟수: {attempts}\")\n",
        "\n",
        "        # 현재 상태 출력\n",
        "        print(\"현재 단어 상태: \" + \" \".join(guessed_word))\n",
        "\n",
        "        # 단어를 완전히 맞춘 경우\n",
        "        if \"_\" not in guessed_word:\n",
        "            print(f\"\\n축하합니다! 단어를 맞추셨습니다: {''.join(guessed_word)}\")\n",
        "            print(f\"남은 시도 횟수: {attempts}\")\n",
        "            break\n",
        "\n",
        "    # 시도 횟수가 0이 되었을 경우\n",
        "    if attempts == 0:\n",
        "        print(f\"\\n아쉽습니다. 정답은 '{word}'였습니다. 다음에 다시 도전해주세요!\")\n",
        "\n",
        "# 게임 실행\n",
        "hangman()\n"
      ]
    }
  ]
}